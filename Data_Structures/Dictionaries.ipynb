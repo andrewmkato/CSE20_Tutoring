{
  "cells": [
    {
      "cell_type": "markdown",
      "metadata": {},
      "source": [
        "# Python Data Structures: Dictionaries\n",
        "\n",
        "By this point, we've already gone over most of the common data structures Python has to offer, including [lists](https://docs.python.org/3/tutorial/datastructures.html) and [tuples](https://docs.python.org/3/tutorial/datastructures.html#tuples-and-sequences). What  might be the most powerful and the most unique, though, is the [dictionary](https://docs.python.org/3/tutorial/datastructures.html#dictionaries). This particular data structure allows for automatic association between items and includes numerous methods for manipulation, all while keeping memory overhead low.\n",
        "\n",
        "## Context 📖\n",
        "\n",
        "When you think of the word *dictionary*, what do you normally think of? \n",
        "\n",
        "Chances are, you picture a physical book, with each page containing definitions for all known words of a given language, such as English. A simplified representation of this is below.\n",
        "\n",
        "| Word | Definition |\n",
        "| ---- | ---------- |\n",
        "| *Aardvark* | A tan or dark brown African mammal with a long snout for finding food. |\n",
        "| *Ammonia* | A colorless, poisonous gas commonly used is cleaning products, fertilizer, and plastics. |\n",
        "| *Apple* | A spherical fruit with a red, green, or yellow exterior and a whitish, sweet interior. |\n",
        "| *Bear* | A large, furred mammal that is typically carnivorous, has brown fur, and hibernates in wintertime. |\n",
        "| *Boat* | A small vessel designed for traversing distances over water. |\n",
        "| *Cake* | An item made with baking ingredients such as eggs, flour, and sugar, and often takes a fluffy texture. |\n",
        "| ... | ... |\n",
        "\n",
        "The information within this given book essentially contains two types of content: words and definitions. The above columns reflect this. The word *aardvark* comes with its own pre-defined meaning, as do *boat*, *cake*, and any other words the pages contain. We could represent this in Python as follows."
      ]
    },
    {
      "cell_type": "markdown",
      "metadata": {},
      "source": [
        "### A Proto-Implementation in Python"
      ]
    },
    {
      "cell_type": "code",
      "execution_count": 1,
      "metadata": {
        "trusted": true
      },
      "outputs": [],
      "source": [
        "words = [\"aardvark\", \"ammonia\", \"apple\", \"bear\", \"boat\", \"cake\"]\n",
        "definitions = [ # The definitions for each word.\n",
        "    \"A tan or dark brown African mammal with a long snout for finding food.\", # Aardvark\n",
        "    \"A colorless, poisonous gas commonly used is cleaning products, fertilizer, and plastics.\", # Ammonia\n",
        "    \"A spherical fruit with a red, green, or yellow exterior and a whitish, sweet interior.\", # Apple\n",
        "    \"A large, furred mammal that is typically carnivorous, has brown fur, and hibernates in wintertime.\", # Bear\n",
        "    \"A small vessel designed for traversing distances over water.\", # Boat\n",
        "    \"An item made with baking ingredients such as eggs, flour, and sugar, and often takes a fluffy texture.\" # Cake\n",
        "]"
      ]
    },
    {
      "cell_type": "markdown",
      "metadata": {},
      "source": [
        "Instead of columns in a table, we now have items in two lists, holding words and their corresponding definitions. If a computer programmer wanted to implement a digital book containing nouns in the English lexicon, this would be a valid way to start. Additionally, this setup is flexible, allowing for the adding and removal of words or definitions."
      ]
    },
    {
      "cell_type": "code",
      "execution_count": 2,
      "metadata": {
        "trusted": true
      },
      "outputs": [
        {
          "name": "stdout",
          "output_type": "stream",
          "text": [
            "After adding 'coral': ['aardvark', 'ammonia', 'apple', 'bear', 'boat', 'cake', 'coral']\n",
            "After removing 'cake': ['aardvark', 'ammonia', 'apple', 'bear', 'boat', 'coral']\n"
          ]
        }
      ],
      "source": [
        "# Appending a word.\n",
        "words.append(\"coral\")\n",
        "definitions.append(\"An invertebrate marine animal that lives in colonies and forms reef structures.\")\n",
        "print(f\"After adding 'coral': {words}\")\n",
        "\n",
        "# Removing a word.\n",
        "words.remove(\"cake\") # Removes the first value in the list that matches the specified argument.\n",
        "definitions.remove(\"An item made with baking ingredients such as eggs, flour, and sugar, and often takes a fluffy texture.\")\n",
        "print(f\"After removing 'cake': {words}\")"
      ]
    },
    {
      "cell_type": "markdown",
      "metadata": {},
      "source": [
        "This gets the job done, but where might it have flaws? Notice that when one word is added or removed, the other list must be updated accordingly. If a programmer wanted to add ten new values to the words list, some degree of code repetition would be unavoidable, especially since the definitions list would also need changing.\n",
        "\n",
        "Moreover, what if a definition needed altering? As of Python 3.11, there isn't any easy way to do so without indexing into the list."
      ]
    },
    {
      "cell_type": "code",
      "execution_count": 3,
      "metadata": {
        "trusted": true
      },
      "outputs": [],
      "source": [
        "definitions[-1] = \"A tasty treat often served on birthdays.\" # Replaces the last definition."
      ]
    },
    {
      "cell_type": "markdown",
      "metadata": {},
      "source": [
        "An alternative would be removing the definition and subsequently adding the desired one in its place."
      ]
    },
    {
      "cell_type": "code",
      "execution_count": 4,
      "metadata": {
        "trusted": true
      },
      "outputs": [],
      "source": [
        "definitions.remove(\"A tasty treat often served on birthdays.\")\n",
        "definitions.append(\"A sugary dessert often enjoyed after a meal's main course.\")"
      ]
    },
    {
      "cell_type": "markdown",
      "metadata": {},
      "source": [
        "But, for definitions that aren't at the end of the list, the index might need to be hard-coded. The code could become more tedious, repetitive, and verbose than it needs to be. "
      ]
    },
    {
      "cell_type": "markdown",
      "metadata": {},
      "source": [
        "### Association\n",
        "\n",
        "A theme in this two-list setup is the dependency between the words and definitions. Oftentimes, changes to one list necessitates changes to the other. This is only natural — since the goal here is to build a dictionary, and each word-definition pair shares a meaningful relationship. Yet, keeping these two types of values in separate structures ignores this desired association. Besides the chosen naming scheme, there's nothing indicating that the two lists share any sort of instrinsic connection. Sure, a class could be created that has each list as an attribute, or we might try to use the zip function for manipulation, but this is still tedious. \n",
        "\n",
        "In computer memory, Python does not store these two lists in any special way that pairs up the lists' values either. They might as well be totally unrelated, and if either list's order changes unintentionally, bugs could be introduced. What we want is a seamless, intuitive, and concise way of maintaining **association** between items. This is where dictionaries come in."
      ]
    },
    {
      "cell_type": "markdown",
      "metadata": {},
      "source": [
        "## Dictionary Syntax and Use in Python 💻"
      ]
    },
    {
      "cell_type": "code",
      "execution_count": 5,
      "metadata": {
        "trusted": true
      },
      "outputs": [],
      "source": [
        "my_dict = {\n",
        "    \"aardvark\": \"A tan or dark brown African mammal with a long snout for finding food.\",\n",
        "    \"ammonia\": \"A colorless, poisonous gas commonly used is cleaning products, fertilizer, and plastics.\",\n",
        "    \"apple\": \"A spherical fruit with a red, green, or yellow exterior and a whitish, sweet interior.\",\n",
        "    \"bear\": \"A large, furred mammal that is typically carnivorous, has brown fur, and hibernates in wintertime.\",\n",
        "    \"boat\": \"A small vessel designed for traversing distances over water.\",\n",
        "    \"cake\": \"An item made with baking ingredients such as eggs, flour, and sugar, and often takes a fluffy texture.\"\n",
        "}"
      ]
    },
    {
      "cell_type": "markdown",
      "metadata": {},
      "source": [
        "With fewer lines and using only one data structure, plugging in the original words and definitions into a singular dictionary allows for a more accurate way to achieve the original goal. We don't have to create a new type of structure ourselves, Python has already created one for us.\n",
        "\n",
        "In a Python dictionary, couple items together between **colons**. Instead of *words* and *definitions*, these item pairs are typically called **_keys_** and **_values_**, respectively. Key-value pairs are each separated by commas. The whole group of key-value pairs is enclosed in **curly braces** {}. Note that these pairs can all be placed on a single line, but doing so might hinder readability at larger scales. "
      ]
    },
    {
      "cell_type": "code",
      "execution_count": 6,
      "metadata": {
        "trusted": true
      },
      "outputs": [],
      "source": [
        "# dictionary_name = {\n",
        "#    key: value,\n",
        "#    key: value,\n",
        "#    key: value,\n",
        "#    ...\n",
        "# }"
      ]
    },
    {
      "cell_type": "markdown",
      "metadata": {},
      "source": [
        "This data structure can go beyond the original example. What if someone wanted to create a digital game with characters and corresponding health points? Dictionaries can help with establishing association."
      ]
    },
    {
      "cell_type": "code",
      "execution_count": 7,
      "metadata": {
        "trusted": true
      },
      "outputs": [],
      "source": [
        "# Without using a dictionary:\n",
        "characters = [\"robot\", \"zombie\", \"wolf\", \"titan\"]\n",
        "health_points = [20, 5, 15, 40]\n",
        "\n",
        "# Using a dictionary:\n",
        "character_pool = {\"robot\": 20, \"zombie\": 5, \"wolf\": 15, \"titan\": 40} # One-line syntax is valid."
      ]
    },
    {
      "cell_type": "markdown",
      "metadata": {},
      "source": [
        "As seen above, values don't have to be strings. Similarly, keys and values can be variables. Values can be of any Python type, e.g. string, int, list, tuple. The same applies to keys, *except* that they cannot take the form of lists. In general, using bools or tuples for keys is unintuitive and could cause issues during manipulation. It should be avoided."
      ]
    },
    {
      "cell_type": "markdown",
      "metadata": {},
      "source": [
        "## Access and Manipulation ✏️"
      ]
    },
    {
      "cell_type": "markdown",
      "metadata": {},
      "source": [
        "When using a physical dictionary in real life, what do you have to look for? Because the purpose of a dictionary is to provide the meanings of words, you first need to find the desired word in order to read its definition. As a result, definitions in Python are accessed by first calling on the given key."
      ]
    },
    {
      "cell_type": "code",
      "execution_count": 8,
      "metadata": {
        "trusted": true
      },
      "outputs": [
        {
          "name": "stdout",
          "output_type": "stream",
          "text": [
            "20\n",
            "30\n",
            "10\n",
            "[40, 15]\n"
          ]
        }
      ],
      "source": [
        "x = character_pool[\"robot\"] # Assigns the value of the \"robot\" key to a variable.\n",
        "print(x)\n",
        "\n",
        "character_pool[\"zombie\"] = 30 # Assigns a new value to the key.\n",
        "print(character_pool[\"zombie\"])\n",
        "\n",
        "character_pool[\"monster\"] = 10 # If the key doesn't exist, it is created.\n",
        "print(character_pool[\"monster\"])\n",
        "\n",
        "my_list = [character_pool[\"titan\"], character_pool[\"wolf\"]] # Values can be passed to other structures.\n",
        "print(my_list)"
      ]
    },
    {
      "cell_type": "markdown",
      "metadata": {},
      "source": [
        "### Accessing with .get()"
      ]
    },
    {
      "cell_type": "markdown",
      "metadata": {},
      "source": [
        "What happens if you try to access the value of a key that doesn't exist this way? The Python interpreter throws an error."
      ]
    },
    {
      "cell_type": "code",
      "execution_count": 9,
      "metadata": {
        "trusted": true
      },
      "outputs": [
        {
          "name": "stdout",
          "output_type": "stream",
          "text": [
            "Error. No key named 'dragon'.\n"
          ]
        }
      ],
      "source": [
        "try:\n",
        "    print(character_pool[\"dragon\"])\n",
        "except KeyError as err: # Executes if try-block fails.\n",
        "    print(f\"Error. No key named {err}.\")"
      ]
    },
    {
      "cell_type": "markdown",
      "metadata": {},
      "source": [
        "To account for this, the get() function can be called on any dictionary without halting a program, even if a given key unknowingly doesn't exist."
      ]
    },
    {
      "cell_type": "code",
      "execution_count": 10,
      "metadata": {
        "trusted": true
      },
      "outputs": [
        {
          "name": "stdout",
          "output_type": "stream",
          "text": [
            "None\n",
            "Game character doesn't exist.\n"
          ]
        }
      ],
      "source": [
        "print(character_pool.get(\"dragon\")) # Returns None if argument input not found.\n",
        "\n",
        "# In the second argument, specify what to return if the first argument input isn't found.\n",
        "print(character_pool.get(\"dragon\", \"Game character doesn't exist.\"))"
      ]
    },
    {
      "cell_type": "markdown",
      "metadata": {},
      "source": [
        "### Altering a Dictionary"
      ]
    },
    {
      "cell_type": "markdown",
      "metadata": {},
      "source": [
        "As seen three code blocks above, adding a key-value entry to a dictionary can be done by assigning a value to a key that doesn't yet exist. Removal can be done in more ways than one."
      ]
    },
    {
      "cell_type": "code",
      "execution_count": 11,
      "metadata": {
        "trusted": true
      },
      "outputs": [],
      "source": [
        "del character_pool[\"titan\"] # Using the del keyword."
      ]
    },
    {
      "cell_type": "markdown",
      "metadata": {},
      "source": [
        "One option is to use the *del* keyword, followed by the dictionary key that you want to remove."
      ]
    },
    {
      "cell_type": "code",
      "execution_count": 12,
      "metadata": {
        "trusted": true
      },
      "outputs": [
        {
          "data": {
            "text/plain": [
              "15"
            ]
          },
          "execution_count": 12,
          "metadata": {},
          "output_type": "execute_result"
        }
      ],
      "source": [
        "character_pool.pop(\"wolf\") # Using the .pop() function."
      ]
    },
    {
      "cell_type": "markdown",
      "metadata": {},
      "source": [
        "Similar to how the .get() function can be used for value access, the .pop() function can be used for removing a key-value pair and returning it to the user. This means that enclosing a .pop() function call inside a print() statement both prints out the value of the specified key and removes the entire pair from the dictionary."
      ]
    },
    {
      "cell_type": "code",
      "execution_count": 13,
      "metadata": {
        "trusted": true
      },
      "outputs": [
        {
          "name": "stdout",
          "output_type": "stream",
          "text": [
            "30\n"
          ]
        }
      ],
      "source": [
        "print(character_pool.pop(\"zombie\")) # Removes the pair, and prints the value."
      ]
    },
    {
      "cell_type": "markdown",
      "metadata": {},
      "source": [
        "Another way to add key-value pairs to a dictionary is through the useful .update() function."
      ]
    },
    {
      "cell_type": "code",
      "execution_count": 14,
      "metadata": {
        "trusted": true
      },
      "outputs": [
        {
          "name": "stdout",
          "output_type": "stream",
          "text": [
            "{'robot': 20, 'monster': 10, 'cobra': 15, 'goblin': 5, 'fireball': 10, 'tiger': 10}\n"
          ]
        }
      ],
      "source": [
        "character_pool.update({\"cobra\": 15}) # Adding a single pair.\n",
        "character_pool.update({\"goblin\": 5, \"fireball\": 10, \"tiger\": 10}) # Adding multiple simultaneously.\n",
        "\n",
        "print(character_pool)"
      ]
    },
    {
      "cell_type": "markdown",
      "metadata": {},
      "source": [
        "As an aside, if you have a list or tuple that contains two-item tuples, a dictionary can be created from it by typecasting with the *dict* keyword."
      ]
    },
    {
      "cell_type": "code",
      "execution_count": 15,
      "metadata": {
        "trusted": true
      },
      "outputs": [
        {
          "name": "stdout",
          "output_type": "stream",
          "text": [
            "{'John': 10, 'Sally': 15, 'Jorge': 45, 'Terry': 21, 'Corinne': 27}\n"
          ]
        }
      ],
      "source": [
        "basketball_team = ( # A basketball team containing tuples with names and jersey numbers.\n",
        "    (\"John\", 10),\n",
        "    (\"Sally\", 15),\n",
        "    (\"Jorge\", 45),\n",
        "    (\"Terry\", 21),\n",
        "    (\"Corinne\", 27)\n",
        ")\n",
        "\n",
        "basketball_team_dictionary = dict(basketball_team)\n",
        "print(basketball_team_dictionary)"
      ]
    },
    {
      "cell_type": "markdown",
      "metadata": {},
      "source": [
        "## The Caveat of Non-Ordering  ☝"
      ]
    },
    {
      "cell_type": "markdown",
      "metadata": {},
      "source": [
        "Up until now, we have not mentioned any way of accessing dictionary items by using indices. That's because there isn't one. With other data structures, including lists and tuples, values are accessed via index."
      ]
    },
    {
      "cell_type": "code",
      "execution_count": 16,
      "metadata": {
        "trusted": true
      },
      "outputs": [
        {
          "name": "stdout",
          "output_type": "stream",
          "text": [
            "('John', 10)\n",
            "10\n"
          ]
        }
      ],
      "source": [
        "first_player = basketball_team[0]\n",
        "print(first_player)\n",
        "\n",
        "first_jersey_number = basketball_team[0][1] # Accesses the first value in the zeroeth tuple.\n",
        "print(first_jersey_number)"
      ]
    },
    {
      "cell_type": "markdown",
      "metadata": {},
      "source": [
        "With dictionaries, though, there are no indices, because there is no notion of numerical ordering. Think of it like this: when looking for a word's definition in a physical dictionary, do you search for the page number? Most of the time, that answer is no. Instead, you likely search for the word instead. Although real-world dictionaries are alphabetized, extending this structure to examples that don't include words and definitions means that there can't be alphabetization. As a result, Python dictionaries do not have ordering in memory."
      ]
    },
    {
      "cell_type": "code",
      "execution_count": 17,
      "metadata": {
        "trusted": true
      },
      "outputs": [
        {
          "name": "stdout",
          "output_type": "stream",
          "text": [
            "Error: Index 0 doesn't exist. Dictionaries don't have ordering.\n"
          ]
        }
      ],
      "source": [
        "try:\n",
        "    print(basketball_team_dictionary[0]) # Not possible to call on the index of a dictionary.\n",
        "except KeyError as err:\n",
        "    print(f\"Error: Index {err} doesn't exist. Dictionaries don't have ordering.\")"
      ]
    },
    {
      "cell_type": "markdown",
      "metadata": {},
      "source": [
        "Sure, there is some order in the code when I decide to actually create a dictionary, but that is happenstance. I could've chosen to order the pairs in basketball_team_dictionary in any other way, any of which has no impact on how dictionaries are stored under the hood. In sum, accessing a particular dictionary value must be done by calling on its key, not by trying to call on an index."
      ]
    },
    {
      "cell_type": "markdown",
      "metadata": {},
      "source": [
        "## Other Useful Functions 💡"
      ]
    },
    {
      "cell_type": "code",
      "execution_count": 18,
      "metadata": {
        "trusted": true
      },
      "outputs": [
        {
          "name": "stdout",
          "output_type": "stream",
          "text": [
            "dict_keys(['John', 'Sally', 'Jorge', 'Terry', 'Corinne'])\n",
            "dict_values([10, 15, 45, 21, 27])\n",
            "dict_items([('John', 10), ('Sally', 15), ('Jorge', 45), ('Terry', 21), ('Corinne', 27)])\n",
            "5\n"
          ]
        }
      ],
      "source": [
        "print(basketball_team_dictionary.keys()) # Prints all of the keys.\n",
        "print(basketball_team_dictionary.values()) # Likewise, but for values.\n",
        "print(basketball_team_dictionary.items()) # Prints a tuple-list of all pairs.\n",
        "print(len(basketball_team_dictionary)) # Prints the number of keys."
      ]
    },
    {
      "cell_type": "markdown",
      "metadata": {},
      "source": [
        "## Recap 🔍"
      ]
    },
    {
      "cell_type": "markdown",
      "metadata": {},
      "source": [
        "With all this information in mind, dictionaries serve an intuitive purpose of creating association between items. They act similarly to other data structures, but are, in a way, like two lists in one. For efficient, effective access of pairs, dictionaries will be your friend.\n",
        "\n",
        "- **Context** 📖\n",
        "    - A Proto-Implementation in Python\n",
        "    - Association\n",
        "- **Dictionary Syntax and Use in Python** 💻\n",
        "- **Access and Manipulation** ✏️\n",
        "    - Accessing with .get()\n",
        "    - Altering a Dictionary\n",
        "- **The Caveat of Non-Ordering** ☝\n",
        "- **Useful Functions** 💡"
      ]
    }
  ],
  "metadata": {
    "kernelspec": {
      "display_name": "Python 3.10.5 64-bit",
      "language": "python",
      "name": "python3"
    },
    "language_info": {
      "codemirror_mode": {
        "name": "python",
        "version": 3
      },
      "file_extension": ".py",
      "mimetype": "text/x-python",
      "name": "python",
      "nbconvert_exporter": "python",
      "pygments_lexer": "ipython3",
      "version": "3.10.5"
    },
    "vscode": {
      "interpreter": {
        "hash": "aee8b7b246df8f9039afb4144a1f6fd8d2ca17a180786b69acc140d282b71a49"
      }
    }
  },
  "nbformat": 4,
  "nbformat_minor": 4
}
