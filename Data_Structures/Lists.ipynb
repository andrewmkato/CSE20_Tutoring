{
  "cells": [
    {
      "cell_type": "markdown",
      "metadata": {},
      "source": [
        "# Python Data Structures: Lists"
      ]
    },
    {
      "cell_type": "markdown",
      "metadata": {},
      "source": [
        "Out of the native data structures the Python programming language has to offer, lists could well be the most versatile and flexible. They're ordered, mutable, and passable to functions. Before we dive into why those features are useful, let's first learn why lists exist in the first place.\n",
        "\n",
        "## Context and Understanding\n",
        "\n",
        "What do you picture in real life when thinking about what the word _list_ means? It's probably the case that one example you thought of is the kind that one might take to a grocery store for shopping. This could look like bullet points with items, similar to what is seen below."
      ]
    },
    {
      "cell_type": "markdown",
      "metadata": {},
      "source": [
        "| Items to Pick Up at the Grocery Store Today|\n",
        "| ---- |\n",
        "| Granny Smith Apples |\n",
        "| Leafy green salad with spinach|\n",
        "| Bulk napkins |\n",
        "| Water |\n",
        "| Pickle jars |\n",
        "| Pink Bubblegum |\n",
        "| ... | ... |"
      ]
    },
    {
      "cell_type": "markdown",
      "metadata": {},
      "source": [
        "Let's think a little more deeply about what this list is composed of. It has a title, which is in bold on the first line. Below that, each desired type of item comes one after the other in some order, which could be happenstance or maybe deliberate based on something such as priority. In terms of purpose, this will keep track of what items to look for in the store, and as items are picked up, they might be crossed out as we go.\n",
        "\n",
        "| Items to Pick Up at the Grocery Store Today|\n",
        "| ---- |\n",
        "| Granny Smith Apples |\n",
        "| Leafy green salad with spinach|\n",
        "| ~~Bulk napkins~~ |\n",
        "| Water |\n",
        "| Pickle jars |\n",
        "| ~~Pink Bubblegum~~ |\n",
        "| ... | ... |\n",
        "\n",
        "So, this list might eventually look like the above when the list's shopper finds the napkins and the bubblegum. Additionally, if the shopper perhaps forgot to include an item on the list, they could just add it in somewhere.\n",
        "\n",
        "| Items to Pick Up at the Grocery Store Today|\n",
        "| ---- |\n",
        "| Granny Smith Apples |\n",
        "| Leafy green salad with spinach|\n",
        "| ~~Bulk napkins~~ |\n",
        "| Water |\n",
        "| Pickle jars |\n",
        "| ~~Pink Bubblegum~~ |\n",
        "| Blood oranges |\n",
        "| ... | ... |\n",
        "\n",
        "Let's take a step back now. What we've gone through at this point is a commonplace set of procedures and setup for creating lists in Python. Now, let's see what this would look like written in code."
      ]
    },
    {
      "cell_type": "markdown",
      "metadata": {},
      "source": [
        "## List Syntax in Python"
      ]
    },
    {
      "cell_type": "code",
      "execution_count": 168,
      "metadata": {
        "trusted": true
      },
      "outputs": [],
      "source": [
        "shopping_list = [\"apples\", \"salad\", \"napkins\", \"water\", \"pickle_jars\", \"pink_bubblegum\"] # Creating a list and assigning it to a variable."
      ]
    },
    {
      "cell_type": "markdown",
      "metadata": {},
      "source": [
        "Instead of a piece of paper with written items, we now have a sequence with elements. To indicate this is a list, and not some other data structure sequence, use square brackets _[]_. Inside those brackets, include whatever elements you desire, which must each be separated by commas. In this example, the grocery items are represented as strings, but we could just as easily create a list with other data types, such as integers, floating-point numbers, booleans, or some combination. If, for instance, we had a relatively large number of elements in the list, and it might be confusing to have all of them on one, single line. For this, it could be formatted such that each element is on a separate line."
      ]
    },
    {
      "cell_type": "code",
      "execution_count": 169,
      "metadata": {
        "trusted": true
      },
      "outputs": [],
      "source": [
        "shopping_list = [ # The same list, with vertical formatting.\n",
        "    \"apples\",\n",
        "    \"salad\",\n",
        "    \"napkins\",\n",
        "    \"water\",\n",
        "    \"pickle_jars\",\n",
        "    \"pink_bubblegum\"\n",
        "]"
      ]
    },
    {
      "cell_type": "markdown",
      "metadata": {},
      "source": [
        "Let's go back through the procedures we applied to our real-life list, and use them on Python's version.\n",
        "\n",
        "## Common Manipulations\n",
        "\n",
        "### Adding Elements to a List\n",
        "Let's modify our shopping list by adding another element to it."
      ]
    },
    {
      "cell_type": "code",
      "execution_count": 170,
      "metadata": {
        "trusted": true
      },
      "outputs": [
        {
          "name": "stdout",
          "output_type": "stream",
          "text": [
            "['apples', 'salad', 'napkins', 'water', 'pickle_jars', 'pink_bubblegum', 'oranges']\n"
          ]
        }
      ],
      "source": [
        "shopping_list.append(\"oranges\") # Adds the string \"oranges\" to the end of the list.\n",
        "print(shopping_list)"
      ]
    },
    {
      "cell_type": "markdown",
      "metadata": {},
      "source": [
        "Using the .append() function on any list adds the value inside the function's parentheses onto the list. But, what if we wanted to, perhaps, add on multiple values at once? Use the .extend() function."
      ]
    },
    {
      "cell_type": "code",
      "execution_count": 171,
      "metadata": {
        "trusted": true
      },
      "outputs": [
        {
          "name": "stdout",
          "output_type": "stream",
          "text": [
            "['apples', 'salad', 'napkins', 'water', 'pickle_jars', 'pink_bubblegum', 'oranges', 'paper_straws', 'lemonade', 'raspberries']\n"
          ]
        }
      ],
      "source": [
        "shopping_list.extend([\"paper_straws\", \"lemonade\", \"raspberries\"]) # Enclose the values you want to add on in within a list themselves.\n",
        "print(shopping_list)"
      ]
    },
    {
      "cell_type": "markdown",
      "metadata": {},
      "source": [
        "Notice that the values to be added with the .extend() function are enclosed in brackets, indicating that they're in a list of their own. The .extend() function seeks a sequence, or iterable (something you can iterate over), as input, rather than individual and separate values. It extends the input list into our current list."
      ]
    },
    {
      "cell_type": "code",
      "execution_count": 172,
      "metadata": {
        "trusted": true
      },
      "outputs": [
        {
          "name": "stdout",
          "output_type": "stream",
          "text": [
            "list.extend() takes exactly one argument (2 given). Input must be a single iterable.\n"
          ]
        }
      ],
      "source": [
        "try:\n",
        "    shopping_list.extend(\"blueberries\", \"key_lime_pie\") # Input must be an iterable.\n",
        "except Exception as err:\n",
        "    print(f\"{err}. Input must be a single iterable.\")"
      ]
    },
    {
      "cell_type": "markdown",
      "metadata": {},
      "source": [
        "Up to this point, we've only discussed methods of adding values to the _end_ of a list. What if buying toothpaste was top priority for this shopper, and, so, they wanted place that item at the very beginning of the list? What about with adding elements, say, in the middle of the list as well? Examples such as these necessitate what's called _ordering_.\n",
        "\n",
        "| Order | Items to Pick Up at the Grocery Store Today|\n",
        "| ---- | ---- |\n",
        "| 0 | Granny Smith Apples |\n",
        "| 1 | Leafy green salad with spinach |\n",
        "| 2 | Bulk napkins |\n",
        "| 3 | Water |\n",
        "| 4 | Pickle jars |\n",
        "| 5 | Pink Bubblegum |\n",
        "| 6 | Blood oranges |\n",
        "| 7 | Paper straws|\n",
        "| 8 | Lemonade |\n",
        "| 9 | Raspberries |\n",
        "\n",
        "Here is our updated list as of now, except it also has ordering in the form of numerical indices (plural for _index_). Each item in the list now has a sequential order based on positioning. Notice, that in Python, as in most programming languages, sequences are 0-indexed, meaning that their ordering starts at 0, not at 1. With this notion of ordering, we can now orient ourselves in how we can add values to this list. If the first element is in the 0th place, and we wanted to place a different item at the beginning, we can call the .insert() function and utilize indexing."
      ]
    },
    {
      "cell_type": "code",
      "execution_count": 173,
      "metadata": {
        "trusted": true
      },
      "outputs": [
        {
          "name": "stdout",
          "output_type": "stream",
          "text": [
            "['toothpaste', 'apples', 'salad', 'napkins', 'water', 'pickle_jars', 'pink_bubblegum', 'oranges', 'paper_straws', 'lemonade', 'raspberries']\n"
          ]
        }
      ],
      "source": [
        "shopping_list.insert(0, \"toothpaste\") # Inserts the string \"toothpaste at the 0th index. The following elements shift down a spot.\n",
        "print(shopping_list)"
      ]
    },
    {
      "cell_type": "markdown",
      "metadata": {},
      "source": [
        "What if the list needed a certain element to be replaced with another, rather than just adding onto it? Indexing again becomes useful."
      ]
    },
    {
      "cell_type": "code",
      "execution_count": 174,
      "metadata": {
        "trusted": true
      },
      "outputs": [
        {
          "name": "stdout",
          "output_type": "stream",
          "text": [
            "['toothpaste', 'apples', 'salad', 'napkins', 'water', 'chapstick', 'pink_bubblegum', 'oranges', 'paper_straws', 'lemonade', 'raspberries']\n"
          ]
        }
      ],
      "source": [
        "# sequence_name[index]\n",
        "shopping_list[5] = \"chapstick\" # Replaces the element at the 5th index with \"chapstick\".\n",
        "print(shopping_list)"
      ]
    },
    {
      "cell_type": "markdown",
      "metadata": {},
      "source": [
        "Use indexing syntax to refer to a particular location in the sequence. Enclose the desired index of a particular location with brackets, and adjoin it to the name of the sequence in question. What if you try to add an element, rather than replace, with this syntax?"
      ]
    },
    {
      "cell_type": "code",
      "execution_count": 175,
      "metadata": {
        "trusted": true
      },
      "outputs": [
        {
          "name": "stdout",
          "output_type": "stream",
          "text": [
            "['toothpaste', 'apples', 'salad', 'napkins', 'water', 'chapstick', 'pink_bubblegum', 'oranges', 'paper_straws', 'lemonade', 'cake']\n"
          ]
        }
      ],
      "source": [
        "# At this point, the list's ordering stops at index 9.\n",
        "shopping_list[10] = \"cake\" # Creates a new place at index 10, and assigns the value \"cake\" to it.\n",
        "print(shopping_list)"
      ]
    },
    {
      "cell_type": "markdown",
      "metadata": {},
      "source": [
        "No error is thrown. Instead of replacement, a new location in the list is created at the end."
      ]
    },
    {
      "cell_type": "markdown",
      "metadata": {},
      "source": [
        "What about adding onto a list with perhaps the most intuitive syntax, using the addition operator?"
      ]
    },
    {
      "cell_type": "code",
      "execution_count": 176,
      "metadata": {
        "trusted": true
      },
      "outputs": [
        {
          "name": "stdout",
          "output_type": "stream",
          "text": [
            "can only concatenate list (not \"str\") to list\n"
          ]
        }
      ],
      "source": [
        "try:\n",
        "    shopping_list + \"limes\"\n",
        "except TypeError as err:\n",
        "    print(err)"
      ]
    },
    {
      "cell_type": "markdown",
      "metadata": {},
      "source": [
        "When just trying to add on a single element, the interpreter will throw an error. Using the addition operator requires that another list is used, similar to the .extend() function."
      ]
    },
    {
      "cell_type": "code",
      "execution_count": 177,
      "metadata": {
        "trusted": true
      },
      "outputs": [
        {
          "name": "stdout",
          "output_type": "stream",
          "text": [
            "['toothpaste', 'apples', 'salad', 'napkins', 'water', 'chapstick', 'pink_bubblegum', 'oranges', 'paper_straws', 'lemonade', 'cake', 'limes']\n"
          ]
        }
      ],
      "source": [
        "# The list being added on could be of any length.\n",
        "shopping_list += [\"limes\"] # Same as shopping_list = shopping_list + [\"limes\"]\n",
        "print(shopping_list)"
      ]
    },
    {
      "cell_type": "markdown",
      "metadata": {},
      "source": [
        "### Removing Elements From a List"
      ]
    }
  ],
  "metadata": {
    "kernelspec": {
      "display_name": "Python 3.10.5 64-bit",
      "language": "python",
      "name": "python3"
    },
    "language_info": {
      "codemirror_mode": {
        "name": "python",
        "version": 3
      },
      "file_extension": ".py",
      "mimetype": "text/x-python",
      "name": "python",
      "nbconvert_exporter": "python",
      "pygments_lexer": "ipython3",
      "version": "3.10.5"
    },
    "vscode": {
      "interpreter": {
        "hash": "aee8b7b246df8f9039afb4144a1f6fd8d2ca17a180786b69acc140d282b71a49"
      }
    }
  },
  "nbformat": 4,
  "nbformat_minor": 4
}
