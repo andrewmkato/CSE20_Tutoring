{
  "metadata": {
    "language_info": {
      "codemirror_mode": {
        "name": "python",
        "version": 3
      },
      "file_extension": ".py",
      "mimetype": "text/x-python",
      "name": "python",
      "nbconvert_exporter": "python",
      "pygments_lexer": "ipython3",
      "version": "3.8"
    },
    "kernelspec": {
      "name": "python",
      "display_name": "Python (Pyodide)",
      "language": "python"
    }
  },
  "nbformat_minor": 4,
  "nbformat": 4,
  "cells": [
    {
      "cell_type": "markdown",
      "source": "# Python Data Structures: Dictionaries\n\nBy this point, we've already gone over most of the common data structures Python has to offer, including [lists](https://docs.python.org/3/tutorial/datastructures.html) and [tuples](https://docs.python.org/3/tutorial/datastructures.html#tuples-and-sequences). What  might be the most powerful and the most unique, though, is the [dictionary](https://docs.python.org/3/tutorial/datastructures.html#dictionaries). This particular data structure allows for automatic association between items and includes numerous methods for manipulation, all while keeping memory overhead low.\n\n## Context 📖\n\nWhen you think of the word *dictionary*, what do you normally think of? \n\nChances are, you picture a physical book, with each page containing definitions for all known words of a given language, such as English. A simplified representation of this is below.\n\n| Word | Definition |\n| ---- | ---------- |\n| *Aardvark* | A tan or dark brown African mammal with a long snout for finding food. |\n| *Ammonia* | A colorless, poisonous gas commonly used is cleaning products, fertilizer, and plastics. |\n| *Apple* | A spherical fruit with a red, green, or yellow exterior and a whitish, sweet interior. |\n| *Bear* | A large, furred mammal that is typically carnivorous, has brown fur, and hibernates in wintertime. |\n| *Boat* | A small vessel designed for traversing distances over water. |\n| *Cake* | An item made with baking ingredients such as eggs, flour, and sugar, and often takes a fluffy texture. |\n| ... | ... |\n\nThe information within this given book essentially contains two types of content: words and definitions. The above columns reflect this. The word *aardvark* comes with its own pre-defined meaning, as do *boat*, *cake*, and any other words the pages contain. We could represent this in Python as follows.",
      "metadata": {}
    },
    {
      "cell_type": "markdown",
      "source": "### A Proto-Implementation in Python",
      "metadata": {}
    },
    {
      "cell_type": "code",
      "source": "words = [\"aardvark\", \"ammonia\", \"apple\", \"bear\", \"boat\", \"cake\"]\ndefinitions = [ # The definitions for each word.\n    \"A tan or dark brown African mammal with a long snout for finding food.\", # Aardvark\n    \"A colorless, poisonous gas commonly used is cleaning products, fertilizer, and plastics.\", # Ammonia\n    \"A spherical fruit with a red, green, or yellow exterior and a whitish, sweet interior.\", # Apple\n    \"A large, furred mammal that is typically carnivorous, has brown fur, and hibernates in wintertime.\", # Bear\n    \"A small vessel designed for traversing distances over water.\", # Boat\n    \"An item made with baking ingredients such as eggs, flour, and sugar, and often takes a fluffy texture.\" # Cake\n]",
      "metadata": {
        "trusted": true
      },
      "execution_count": 1372,
      "outputs": []
    },
    {
      "cell_type": "markdown",
      "source": "Instead of columns in a table, we now have items in two lists, holding words and their corresponding definitions. If a computer programmer wanted to implement a digital book containing nouns in the English lexicon, this would be a valid way to start. Additionally, this setup is flexible, allowing for the adding and removal of words or definitions.",
      "metadata": {}
    },
    {
      "cell_type": "code",
      "source": "# Appending a word.\nwords.append(\"coral\")\ndefinitions.append(\"An invertebrate marine animal that lives in colonies and forms reef structures.\")\nprint(f\"After adding 'coral': {words}\")\n\n# Removing a word.\nwords.remove(\"cake\") # Removes the first value in the list that matches the specified argument.\ndefinitions.remove(\"An item made with baking ingredients such as eggs, flour, and sugar, and often takes a fluffy texture.\")\nprint(f\"After removing 'cake': {words}\")",
      "metadata": {
        "trusted": true
      },
      "execution_count": 1373,
      "outputs": [
        {
          "name": "stdout",
          "text": "After adding 'coral': ['aardvark', 'ammonia', 'apple', 'bear', 'boat', 'cake', 'coral']\nAfter removing 'cake': ['aardvark', 'ammonia', 'apple', 'bear', 'boat', 'coral']\n",
          "output_type": "stream"
        }
      ]
    },
    {
      "cell_type": "markdown",
      "source": "This gets the job done, but where might it have flaws? Notice that when one word is added or removed, the other list must be updated accordingly. If a programmer wanted to add ten new values to the words list, some degree of code repetition would be unavoidable, especially since the definitions list would also need changing.\n\nMoreover, what if a definition needed altering? As of Python 3.11, there isn't any easy way to do so without indexing into the list.",
      "metadata": {}
    },
    {
      "cell_type": "code",
      "source": "definitions[-1] = \"A tasty treat often served on birthdays.\" # Replaces the last definition.",
      "metadata": {
        "trusted": true
      },
      "execution_count": 1374,
      "outputs": []
    },
    {
      "cell_type": "markdown",
      "source": "An alternative would be removing the definition and subsequently adding the desired one in its place.",
      "metadata": {}
    },
    {
      "cell_type": "code",
      "source": "definitions.remove(\"A tasty treat often served on birthdays.\")\ndefinitions.append(\"A sugary dessert often enjoyed after a meal's main course.\")",
      "metadata": {
        "trusted": true
      },
      "execution_count": 1375,
      "outputs": []
    },
    {
      "cell_type": "markdown",
      "source": "But, for definitions that aren't at the end of the list, the index might need to be hard-coded. The code could become more tedious, repetitive, and verbose than it needs to be. ",
      "metadata": {}
    },
    {
      "cell_type": "markdown",
      "source": "### Association\n\nA theme in this two-list setup is the dependency between the words and definitions. Oftentimes, changes to one list necessitates changes to the other. This is only natural — since the goal here is to build a dictionary, and each word-definition pair shares a meaningful relationship. Yet, keeping these two types of values in separate structures ignores this desired association. Besides the chosen naming scheme, there's nothing indicating that the two lists share any sort of instrinsic connection. Sure, a class could be created that has each list as an attribute, or we might try to use the zip function for manipulation, but this is still tedious. \n\nIn computer memory, Python does not store these two lists in any special way that pairs up the lists' values either. They might as well be totally unrelated, and if either list's order changes unintentionally, bugs could be introduced. What we want is a seamless, intuitive, and concise way of maintaining **association** between items. This is where dictionaries come in.",
      "metadata": {}
    },
    {
      "cell_type": "markdown",
      "source": "## Dictionary Syntax and Use in Python 💻",
      "metadata": {}
    },
    {
      "cell_type": "code",
      "source": "my_dict = {\n    \"aardvark\": \"A tan or dark brown African mammal with a long snout for finding food.\",\n    \"ammonia\": \"A colorless, poisonous gas commonly used is cleaning products, fertilizer, and plastics.\",\n    \"apple\": \"A spherical fruit with a red, green, or yellow exterior and a whitish, sweet interior.\",\n    \"bear\": \"A large, furred mammal that is typically carnivorous, has brown fur, and hibernates in wintertime.\",\n    \"boat\": \"A small vessel designed for traversing distances over water.\",\n    \"cake\": \"An item made with baking ingredients such as eggs, flour, and sugar, and often takes a fluffy texture.\"\n}",
      "metadata": {
        "trusted": true
      },
      "execution_count": 1376,
      "outputs": []
    },
    {
      "cell_type": "markdown",
      "source": "With fewer lines and using only one data structure, plugging in the original words and definitions into a singular dictionary allows for a more accurate way to achieve the original goal. We don't have to create a new type of structure ourselves, Python has already created one for us.\n\nIn a Python dictionary, couple items together between **colons**. Instead of *words* and *definitions*, these item pairs are typically called **_keys_** and **_values_**, respectively. Key-value pairs are each separated by commas. The whole group of key-value pairs is enclosed in **curly braces** {}. Note that these pairs can all be placed on a single line, but doing so might hinder readability at larger scales. ",
      "metadata": {}
    },
    {
      "cell_type": "code",
      "source": "# dictionary_name = {\n#    key: value,\n#    key: value,\n#    key: value,\n#    ...\n# }",
      "metadata": {
        "trusted": true
      },
      "execution_count": 1377,
      "outputs": []
    },
    {
      "cell_type": "markdown",
      "source": "This data structure can go beyond the original example. What if someone wanted to create a digital game with characters and corresponding health points? Dictionaries can help with establishing association.",
      "metadata": {}
    },
    {
      "cell_type": "code",
      "source": "# Without using a dictionary:\ncharacters = [\"robot\", \"zombie\", \"wolf\", \"titan\"]\nhealth_points = [20, 5, 15, 40]\n\n# Using a dictionary:\ncharacter_pool = {\"robot\": 20, \"zombie\": 5, \"wolf\": 15, \"titan\": 40} # One-line syntax is valid.",
      "metadata": {
        "trusted": true
      },
      "execution_count": 1378,
      "outputs": []
    },
    {
      "cell_type": "markdown",
      "source": "As seen above, values don't have to be strings. Similarly, keys and values can be variables. Values can be of any Python type, e.g. string, int, list, tuple. The same applies to keys, *except* that they cannot take the form of lists. In general, using bools or tuples for keys is unintuitive and could cause issues during manipulation. It should be avoided.",
      "metadata": {}
    },
    {
      "cell_type": "markdown",
      "source": "## Access and Manipulation ✏️",
      "metadata": {}
    },
    {
      "cell_type": "markdown",
      "source": "When using a physical dictionary in real life, what do you have to look for? Because the purpose of a dictionary is to provide the meanings of words, you first need to find the desired word in order to read its definition. As a result, definitions in Python are accessed by first calling on the given key.",
      "metadata": {}
    },
    {
      "cell_type": "code",
      "source": "x = character_pool[\"robot\"] # Assigns the value of the \"robot\" key to a variable.\nprint(x)\n\ncharacter_pool[\"zombie\"] = 30 # Assigns a new value to the key.\nprint(character_pool[\"zombie\"])\n\ncharacter_pool[\"monster\"] = 10 # If the key doesn't exist, it is created.\nprint(character_pool[\"monster\"])\n\nmy_list = [character_pool[\"titan\"], character_pool[\"wolf\"]] # Values can be passed to other structures.\nprint(my_list)",
      "metadata": {
        "trusted": true
      },
      "execution_count": 1379,
      "outputs": [
        {
          "name": "stdout",
          "text": "20\n30\n10\n[40, 15]\n",
          "output_type": "stream"
        }
      ]
    },
    {
      "cell_type": "markdown",
      "source": "### Accessing with .get()",
      "metadata": {}
    },
    {
      "cell_type": "markdown",
      "source": "What happens if you try to access the value of a key that doesn't exist this way? The Python interpreter throws an error.",
      "metadata": {}
    },
    {
      "cell_type": "code",
      "source": "try:\n    print(character_pool[\"dragon\"])\nexcept KeyError as err: # Executes if try-block fails.\n    print(f\"Error. No key named {err}.\")",
      "metadata": {
        "trusted": true
      },
      "execution_count": 1380,
      "outputs": [
        {
          "name": "stdout",
          "text": "Error. No key named 'dragon'.\n",
          "output_type": "stream"
        }
      ]
    },
    {
      "cell_type": "markdown",
      "source": "To account for this, the get() function can be called on any dictionary without halting a program, even if a given key unknowingly doesn't exist.",
      "metadata": {}
    },
    {
      "cell_type": "code",
      "source": "print(character_pool.get(\"dragon\")) # Returns None if argument input not found.\n\n# In the second argument, specify what to return if the first argument input isn't found.\nprint(character_pool.get(\"dragon\", \"Game character doesn't exist.\"))",
      "metadata": {
        "trusted": true
      },
      "execution_count": 1381,
      "outputs": [
        {
          "name": "stdout",
          "text": "None\nGame character doesn't exist.\n",
          "output_type": "stream"
        }
      ]
    },
    {
      "cell_type": "markdown",
      "source": "### Altering a Dictionary",
      "metadata": {}
    },
    {
      "cell_type": "markdown",
      "source": "As seen three code blocks above, adding a key-value entry to a dictionary can be done by assigning a value to a key that doesn't yet exist. Removal can be done in more ways than one.",
      "metadata": {}
    },
    {
      "cell_type": "code",
      "source": "del character_pool[\"titan\"] # Using the del keyword.",
      "metadata": {
        "trusted": true
      },
      "execution_count": 1382,
      "outputs": []
    },
    {
      "cell_type": "markdown",
      "source": "One option is to use the *del* keyword, followed by the dictionary key that you want to remove.",
      "metadata": {}
    },
    {
      "cell_type": "code",
      "source": "character_pool.pop(\"wolf\") # Using the .pop() function.",
      "metadata": {
        "trusted": true
      },
      "execution_count": 1383,
      "outputs": [
        {
          "execution_count": 1383,
          "output_type": "execute_result",
          "data": {
            "text/plain": "15"
          },
          "metadata": {}
        }
      ]
    },
    {
      "cell_type": "markdown",
      "source": "Similar to how the .get() function can be used for value access, the .pop() function can be used for removing a key-value pair and returning it to the user. This means that enclosing a .pop() function call inside a print() statement both prints out the value of the specified key and removes the entire pair from the dictionary.",
      "metadata": {}
    },
    {
      "cell_type": "code",
      "source": "print(character_pool.pop(\"zombie\")) # Removes the pair, and prints the value.",
      "metadata": {
        "trusted": true
      },
      "execution_count": 1384,
      "outputs": [
        {
          "name": "stdout",
          "text": "30\n",
          "output_type": "stream"
        }
      ]
    },
    {
      "cell_type": "markdown",
      "source": "Another way to add key-value pairs to a dictionary is through the useful .update() function.",
      "metadata": {}
    },
    {
      "cell_type": "code",
      "source": "character_pool.update({\"cobra\": 15}) # Adding a single pair.\ncharacter_pool.update({\"goblin\": 5, \"fireball\": 10, \"tiger\": 10}) # Adding multiple simultaneously.\n\nprint(character_pool)",
      "metadata": {
        "trusted": true
      },
      "execution_count": 1385,
      "outputs": [
        {
          "name": "stdout",
          "text": "{'robot': 20, 'monster': 10, 'cobra': 15, 'goblin': 5, 'fireball': 10, 'tiger': 10}\n",
          "output_type": "stream"
        }
      ]
    },
    {
      "cell_type": "markdown",
      "source": "As an aside, if you have a list or tuple that contains two-item tuples, a dictionary can be created from it by typecasting with the *dict* keyword.",
      "metadata": {}
    },
    {
      "cell_type": "code",
      "source": "basketball_team = ( # A basketball team containing tuples with names and jersey numbers.\n    (\"John\", 10),\n    (\"Sally\", 15),\n    (\"Jorge\", 45),\n    (\"Terry\", 21),\n    (\"Corinne\", 27)\n)\n\nbasketball_team_dictionary = dict(basketball_team)\nprint(basketball_team_dictionary)",
      "metadata": {
        "trusted": true
      },
      "execution_count": 1386,
      "outputs": [
        {
          "name": "stdout",
          "text": "{'John': 10, 'Sally': 15, 'Jorge': 45, 'Terry': 21, 'Corinne': 27}\n",
          "output_type": "stream"
        }
      ]
    },
    {
      "cell_type": "markdown",
      "source": "## The Caveat of Non-Ordering  ☝",
      "metadata": {}
    },
    {
      "cell_type": "markdown",
      "source": "Up until now, we have not mentioned any way of accessing dictionary items by using indices. That's because there isn't one. With other data structures, including lists and tuples, values are accessed via index.",
      "metadata": {}
    },
    {
      "cell_type": "code",
      "source": "first_player = basketball_team[0]\nprint(first_player)\n\nfirst_jersey_number = basketball_team[0][1] # Accesses the first value in the zeroeth tuple.\nprint(first_jersey_number)",
      "metadata": {
        "trusted": true
      },
      "execution_count": 1387,
      "outputs": [
        {
          "name": "stdout",
          "text": "('John', 10)\n10\n",
          "output_type": "stream"
        }
      ]
    },
    {
      "cell_type": "markdown",
      "source": "With dictionaries, though, there are no indices, because there is no notion of numerical ordering. Think of it like this: when looking for a word's definition in a physical dictionary, do you search for the page number? Most of the time, that answer is no. Instead, you likely search for the word instead. Although real-world dictionaries are alphabetized, extending this structure to examples that don't include words and definitions means that there can't be alphabetization. As a result, Python dictionaries do not have ordering in memory.",
      "metadata": {}
    },
    {
      "cell_type": "code",
      "source": "try:\n    print(basketball_team_dictionary[0]) # Not possible to call on the index of a dictionary.\nexcept KeyError as err:\n    print(f\"Error: Index {err} doesn't exist. Dictionaries don't have ordering.\")",
      "metadata": {
        "trusted": true
      },
      "execution_count": 1388,
      "outputs": [
        {
          "name": "stdout",
          "text": "Error: Index 0 doesn't exist. Dictionaries don't have ordering.\n",
          "output_type": "stream"
        }
      ]
    },
    {
      "cell_type": "markdown",
      "source": "Sure, there is some order in the code when I decide to actually create a dictionary, but that is happenstance. I could've chosen to order the pairs in basketball_team_dictionary in any other way, any of which has no impact on how dictionaries are stored under the hood. In sum, accessing a particular dictionary value must be done by calling on its key, not by trying to call on an index.",
      "metadata": {}
    },
    {
      "cell_type": "markdown",
      "source": "## Other Useful Functions 💡",
      "metadata": {}
    },
    {
      "cell_type": "code",
      "source": "print(basketball_team_dictionary.keys()) # Prints all of the keys.\nprint(basketball_team_dictionary.values()) # Likewise, but for values.\nprint(basketball_team_dictionary.items()) # Prints a tuple-list of all pairs.\nprint(len(basketball_team_dictionary)) # Prints the number of keys.",
      "metadata": {
        "trusted": true
      },
      "execution_count": 1389,
      "outputs": [
        {
          "name": "stdout",
          "text": "dict_keys(['John', 'Sally', 'Jorge', 'Terry', 'Corinne'])\ndict_values([10, 15, 45, 21, 27])\ndict_items([('John', 10), ('Sally', 15), ('Jorge', 45), ('Terry', 21), ('Corinne', 27)])\n5\n",
          "output_type": "stream"
        }
      ]
    },
    {
      "cell_type": "markdown",
      "source": "## Review 🔍",
      "metadata": {}
    },
    {
      "cell_type": "markdown",
      "source": "With all this information in mind, dictionaries serve an intuitive purpose of creating association between items. They act similarly to other data structures, but are, in a way, like two lists in one. For efficient, effective access of pairs, dictionaries will be your friend.\n\n- **Context** 📖\n    - A Proto-Implementation in Python\n    - Association\n- **Dictionary Syntax and Use in Python** 💻\n- **Access and Manipulation** ✏️\n    - Accessing with .get()\n    - Altering a Dictionary\n- **The Caveat of Non-Ordering** ☝\n- **Useful Functions** 💡",
      "metadata": {}
    }
  ]
}