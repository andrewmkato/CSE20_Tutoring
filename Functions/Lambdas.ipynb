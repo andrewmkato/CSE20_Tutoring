{
  "metadata": {
    "language_info": {
      "codemirror_mode": {
        "name": "python",
        "version": 3
      },
      "file_extension": ".py",
      "mimetype": "text/x-python",
      "name": "python",
      "nbconvert_exporter": "python",
      "pygments_lexer": "ipython3",
      "version": "3.8"
    },
    "kernelspec": {
      "name": "python",
      "display_name": "Python (Pyodide)",
      "language": "python"
    }
  },
  "nbformat_minor": 4,
  "nbformat": 4,
  "cells": [
    {
      "cell_type": "markdown",
      "source": "# Lambda Functions and Lambda Calculus",
      "metadata": {}
    },
    {
      "cell_type": "markdown",
      "source": "A key theme in Python syntax is its incredibly terse style. This takes the form of shortcut strategies such as string slicing and tuple unpacking, as well as in name abbreviations like len() and \\_\\_init\\_\\_. Another feature along these lines is the ability to write anonymous, one-liner functions using the _lambda_ keyword. Anonymous functions appear in other languages as well, such as C++ and JavaScript, and are often called lambda functions or lambda expressions. This naming convention isn't random, so it's worth understanding why they're called what they are.",
      "metadata": {}
    },
    {
      "cell_type": "markdown",
      "source": "## A Brief History of Lambda Calculus 📖",
      "metadata": {}
    },
    {
      "cell_type": "markdown",
      "source": "First introduced by logician Alonzo Church in the [1930s](https://www.jstor.org/stable/1968337?origin=crossref&seq=9#metadata_info_tab_contents), lambda calculus is an abstract formal language used for encoding functions — in the computational sense. Church opted to use the Greek symbol lambda, λ, for representing this system. Beyond mathematics, lambda notation also takes form in semantics, a branch of linguistics focused on meaning representations in natural language. A mathematical expression such as f(x) = x * 2, where x is a natural number, might look like the following in lambda calculus.\n\n   λ*x*: _x_ ∈ ℕ.*x* × 2\n\nThis function takes an input _x_, which must be an element in the set of all natural numbers ℕ, and returns _x_ × 2. λ itself does not carry meaning, except to denote the start of a particular function. The expression doesn't need a name. Consequently, the way that Python and various other programming languages implement or refer to anonymous functions is through lambda notation.",
      "metadata": {}
    },
    {
      "cell_type": "markdown",
      "source": "## Python's Lambda Syntax 💻",
      "metadata": {}
    },
    {
      "cell_type": "code",
      "source": "lambda x: x * 2 # Python's version of the same expression.",
      "metadata": {
        "trusted": true
      },
      "execution_count": 97,
      "outputs": [
        {
          "execution_count": 97,
          "output_type": "execute_result",
          "data": {
            "text/plain": "<function __main__.<lambda>(x)>"
          },
          "metadata": {}
        }
      ]
    },
    {
      "cell_type": "markdown",
      "source": "Although Python doesn't implement the exact syntax of an actual lambda expression, it does keep some of it. The λ symbol doesn't have a dedicated key on almost any computer keyboard, so Python opted to spell it out in English as the keyword _lambda_. Just as in the earlier representation, this code creates a function that takes an input value and returns the product of the input value multiplied by 2. Like with λ, _lambda_ does not serve the role of a name, but rather of the starting place for an anonymous function.",
      "metadata": {}
    },
    {
      "cell_type": "code",
      "source": "# lambda input: output",
      "metadata": {
        "trusted": true
      },
      "execution_count": 98,
      "outputs": []
    },
    {
      "cell_type": "markdown",
      "source": "### Purpose and Importance",
      "metadata": {}
    },
    {
      "cell_type": "markdown",
      "source": "Why use this unusual notation? Why use it over the typical function syntax? Consider a computer programmer working in text manipulation, and who often needs to reverse strings.",
      "metadata": {}
    },
    {
      "cell_type": "code",
      "source": "text = \"Hello, world!\"\ntext = text[::-1]\nprint(text)",
      "metadata": {
        "trusted": true
      },
      "execution_count": 99,
      "outputs": [
        {
          "name": "stdout",
          "text": "!dlrow ,olleH\n",
          "output_type": "stream"
        }
      ]
    },
    {
      "cell_type": "markdown",
      "source": "In Python, doing this is extraordinarily concise with slicing syntax by specifying the traversal pattern as negative. But, coding this over and over could involve unecessary repetition. This task could be abstracted into a function.",
      "metadata": {}
    },
    {
      "cell_type": "code",
      "source": "def reverse(x: str):\n    try:\n        return(x[::-1])\n    except TypeError as err:\n        return f\"Input to reverse() must be a string. {err}.\"\n    \ntext = \"Hello, world!\"\ntext = reverse(text)\nprint(text)",
      "metadata": {
        "trusted": true
      },
      "execution_count": 100,
      "outputs": [
        {
          "name": "stdout",
          "text": "!dlrow ,olleH\n",
          "output_type": "stream"
        }
      ]
    },
    {
      "cell_type": "markdown",
      "source": "Functions could take up an arbitrarily large number of lines, but for those that are straightforward and short, like the one above, it'd be nice to have them simplified down to one line when possible. This is where lambda functions come handy. ",
      "metadata": {}
    },
    {
      "cell_type": "code",
      "source": "reverse = lambda x: x[::-1]",
      "metadata": {
        "trusted": true
      },
      "execution_count": 101,
      "outputs": []
    },
    {
      "cell_type": "markdown",
      "source": "Aside from the deliberate exception handling, the lambda syntax above creates a function that does the same as the original design. reverse() is called the same way in both scenarios, but the lambda notation provides a simpler appearance. In this case, we've decided to provide the function a name, _reverse_, but greatest usefulness of lambdas come from their usage as arguments to other functions.",
      "metadata": {}
    },
    {
      "cell_type": "markdown",
      "source": "## Lambdas as First-Class Objects 🥇",
      "metadata": {}
    },
    {
      "cell_type": "markdown",
      "source": "In Python, functions are first-class objects, meaning that there they can be passed into variables, data structures, and other functions. In other words, functions have great flexibility for how they can be used. Consider the example code below.",
      "metadata": {}
    },
    {
      "cell_type": "code",
      "source": "text = \"foobarbaz\"\nprint(sorted(text)) # Sorts the input alphabetically.",
      "metadata": {
        "trusted": true
      },
      "execution_count": 102,
      "outputs": [
        {
          "name": "stdout",
          "text": "['a', 'a', 'b', 'b', 'f', 'o', 'o', 'r', 'z']\n",
          "output_type": "stream"
        }
      ]
    },
    {
      "cell_type": "markdown",
      "source": "The [sorted()](https://docs.python.org/3/library/functions.html#sorted) function sorts some sequence or ordered data structure based on some pattern. Without specifying a key to apply, it will sort an iterable automatically. But, what about with input that you might want to sort in a different way?",
      "metadata": {}
    },
    {
      "cell_type": "code",
      "source": "qux = [\n    [\"foo\", 5],\n    [\"bar\", 99],\n    [\"baz\", -3]\n]\n\nsorted(qux) # Sorts alphabetically automatically.",
      "metadata": {
        "trusted": true
      },
      "execution_count": 103,
      "outputs": [
        {
          "execution_count": 103,
          "output_type": "execute_result",
          "data": {
            "text/plain": "[['bar', 99], ['baz', -3], ['foo', 5]]"
          },
          "metadata": {}
        }
      ]
    },
    {
      "cell_type": "markdown",
      "source": "This code still sorts alphabetically, accessing the first value in each internal list. What if you sought to order the internal lists by their numerical values?",
      "metadata": {}
    },
    {
      "cell_type": "code",
      "source": "# sorted(iterable, key=None, reverse=False)\nsorted(qux, key=lambda element: element[1], reverse=True) # Specifies a key to determine how to sort each item in the iterable.",
      "metadata": {
        "trusted": true
      },
      "execution_count": 104,
      "outputs": [
        {
          "execution_count": 104,
          "output_type": "execute_result",
          "data": {
            "text/plain": "[['bar', 99], ['foo', 5], ['baz', -3]]"
          },
          "metadata": {}
        }
      ]
    },
    {
      "cell_type": "markdown",
      "source": "By specifying a lambda function, we can choose how to determine the sorting that the sorted() function implements. The above code sorts _qux_ in descending order based on the second value, an int, in each internal list. The anonymous function that decides this is passed as the _key_ argument in sorted(). We didn't need to define this function at any earlier point. We use the function at the same time as creating it, which is helpful if there's no need to use the function later on.\n\nIn this way, the anonymous lambda function is passed as an argument to another function, sorted(). We can pass around lambdas in this way because they are functions, which are first-class objects in Python. We could also choose to name the lambda function if desired, and still use it accordingly.",
      "metadata": {}
    },
    {
      "cell_type": "code",
      "source": "access_element_1 = lambda element: element[1] # Name given to lambda.\n\nspam = [\n    [\"ham\", 33],\n    [\"eggs\", 48]\n]\n\nsorted(spam, key=access_element_1, reverse=True) # Still sorts in descending numerical order.",
      "metadata": {
        "trusted": true
      },
      "execution_count": 105,
      "outputs": [
        {
          "execution_count": 105,
          "output_type": "execute_result",
          "data": {
            "text/plain": "[['eggs', 48], ['ham', 33]]"
          },
          "metadata": {}
        }
      ]
    },
    {
      "cell_type": "markdown",
      "source": "For defining a concise function as well as for specifying a particular key to be applied to elements of a data structure, lambda functions prove a useful option. Other functions for which lambdas can be passed to include [map()](https://docs.python.org/3/library/functions.html#map) and [filter()](https://docs.python.org/3/library/functions.html#filter).",
      "metadata": {}
    },
    {
      "cell_type": "markdown",
      "source": "## Recap 🔍",
      "metadata": {}
    },
    {
      "cell_type": "markdown",
      "source": "- **A Brief History of Lambda Calculus** 📖\n- **Python's Lambda Syntax** 💻\n    - Purpose and Importance\n- **Lambdas as First-Class Objects** 🥇",
      "metadata": {}
    }
  ]
}